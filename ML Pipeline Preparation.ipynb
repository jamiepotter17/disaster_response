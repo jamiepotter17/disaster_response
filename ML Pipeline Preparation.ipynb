{
 "cells": [
  {
   "cell_type": "markdown",
   "metadata": {},
   "source": [
    "# ML Pipeline Preparation\n",
    "Follow the instructions below to help you create your ML pipeline.\n",
    "### 1. Import libraries and load data from database.\n",
    "- Import Python libraries\n",
    "- Load dataset from database with [`read_sql_table`](https://pandas.pydata.org/pandas-docs/stable/generated/pandas.read_sql_table.html)\n",
    "- Define feature and target variables X and Y"
   ]
  },
  {
   "cell_type": "code",
   "execution_count": 1,
   "metadata": {},
   "outputs": [],
   "source": [
    "# import libraries\n",
    "import numpy as np\n",
    "import pandas as pd\n",
    "from sqlalchemy import create_engine\n",
    "import time\n",
    "import re\n",
    "import joblib\n",
    "\n",
    "import nltk\n",
    "from nltk.tokenize import word_tokenize\n",
    "\n",
    "from sklearn.multioutput import MultiOutputClassifier\n",
    "from sklearn.feature_extraction.text import CountVectorizer, TfidfTransformer\n",
    "from sklearn.model_selection import train_test_split, RandomizedSearchCV\n",
    "from sklearn.pipeline import Pipeline\n",
    "from sklearn.ensemble import RandomForestClassifier\n",
    "from sklearn.metrics import classification_report"
   ]
  },
  {
   "cell_type": "code",
   "execution_count": 2,
   "metadata": {},
   "outputs": [],
   "source": [
    "# load data from database\n",
    "engine = create_engine('sqlite:///data/Disaster_Response.db')\n",
    "df = pd.read_sql_table('messages', engine)\n",
    "X = df['message']\n",
    "category_names = list(df.columns[3:])\n",
    "Y = df[category_names]"
   ]
  },
  {
   "cell_type": "markdown",
   "metadata": {},
   "source": [
    "### 2. Write a tokenization function to process your text data"
   ]
  },
  {
   "cell_type": "code",
   "execution_count": 3,
   "metadata": {},
   "outputs": [],
   "source": [
    "def tokenize(text):\n",
    "    \n",
    "    # Replace URLs with string 'urlsupplied'\n",
    "    urlregex = 'http[s]?://(?:[a-zA-Z]|[0-9]|[$-_@.&+]|[!*\\(\\),]|(?:%[0-9a-fA-F][0-9a-fA-F]))+'\n",
    "    urlsupplied_text = re.sub(urlregex, 'urlsupplied', text)\n",
    "    \n",
    "    # remove punctuation and convert to small letters\n",
    "    small_unpunc_text = re.sub(r\"[^A-Za-z0-9']\", ' ', urlsupplied_text).lower()\n",
    "    \n",
    "    # tokenize text   \n",
    "    tokenized_text = word_tokenize(small_unpunc_text)\n",
    "    \n",
    "    return tokenized_text"
   ]
  },
  {
   "cell_type": "markdown",
   "metadata": {},
   "source": [
    "### 3. Build a machine learning pipeline\n",
    "This machine pipeline should take in the `message` column as input and output classification results on the other 36 categories in the dataset. You may find the [MultiOutputClassifier](http://scikit-learn.org/stable/modules/generated/sklearn.multioutput.MultiOutputClassifier.html) helpful for predicting multiple target variables."
   ]
  },
  {
   "cell_type": "code",
   "execution_count": 4,
   "metadata": {},
   "outputs": [],
   "source": [
    "pipeline = Pipeline([\n",
    "    (\"vect\", CountVectorizer(tokenizer=tokenize, stop_words='english', lowercase=False)),\n",
    "    (\"tfidf\", TfidfTransformer()),\n",
    "    ('clf', MultiOutputClassifier(RandomForestClassifier()))\n",
    "])"
   ]
  },
  {
   "cell_type": "markdown",
   "metadata": {},
   "source": [
    "### 4. Train pipeline\n",
    "- Split data into train and test sets\n",
    "- Train pipeline"
   ]
  },
  {
   "cell_type": "code",
   "execution_count": 5,
   "metadata": {},
   "outputs": [
    {
     "data": {
      "text/plain": [
       "Pipeline(steps=[('vect',\n",
       "                 CountVectorizer(lowercase=False, stop_words='english',\n",
       "                                 tokenizer=<function tokenize at 0x000001E74A8A3940>)),\n",
       "                ('tfidf', TfidfTransformer()),\n",
       "                ('clf',\n",
       "                 MultiOutputClassifier(estimator=RandomForestClassifier()))])"
      ]
     },
     "execution_count": 5,
     "metadata": {},
     "output_type": "execute_result"
    }
   ],
   "source": [
    "X_train, X_test, Y_train, Y_test = train_test_split(X, Y, test_size=0.1, random_state=17)\n",
    "\n",
    "pipeline.fit(X_train, Y_train)"
   ]
  },
  {
   "cell_type": "code",
   "execution_count": 18,
   "metadata": {},
   "outputs": [
    {
     "ename": "TypeError",
     "evalue": "set_params() takes 1 positional argument but 2 were given",
     "output_type": "error",
     "traceback": [
      "\u001b[1;31m---------------------------------------------------------------------------\u001b[0m",
      "\u001b[1;31mTypeError\u001b[0m                                 Traceback (most recent call last)",
      "\u001b[1;32mD:\\Temp/ipykernel_1956/3682138382.py\u001b[0m in \u001b[0;36m<module>\u001b[1;34m\u001b[0m\n\u001b[1;32m----> 1\u001b[1;33m pipeline.set_params({'vect__ngram_range': (1, 2),\n\u001b[0m\u001b[0;32m      2\u001b[0m  \u001b[1;34m'vect__max_df'\u001b[0m\u001b[1;33m:\u001b[0m \u001b[1;36m0.6\u001b[0m\u001b[1;33m,\u001b[0m\u001b[1;33m\u001b[0m\u001b[1;33m\u001b[0m\u001b[0m\n\u001b[0;32m      3\u001b[0m  \u001b[1;34m'clf__estimator__n_estimators'\u001b[0m\u001b[1;33m:\u001b[0m \u001b[1;36m100\u001b[0m\u001b[1;33m,\u001b[0m\u001b[1;33m\u001b[0m\u001b[1;33m\u001b[0m\u001b[0m\n\u001b[0;32m      4\u001b[0m  \u001b[1;34m'clf__estimator__min_samples_split'\u001b[0m\u001b[1;33m:\u001b[0m \u001b[1;36m8\u001b[0m\u001b[1;33m,\u001b[0m\u001b[1;33m\u001b[0m\u001b[1;33m\u001b[0m\u001b[0m\n\u001b[0;32m      5\u001b[0m  'clf__estimator__min_samples_leaf': 1})\n",
      "\u001b[1;31mTypeError\u001b[0m: set_params() takes 1 positional argument but 2 were given"
     ]
    }
   ],
   "source": [
    "pipeline.set_params({'vect__ngram_range': (1, 2),\n",
    " 'vect__max_df': 0.6,\n",
    " 'clf__estimator__n_estimators': 100,\n",
    " 'clf__estimator__min_samples_split': 8,\n",
    " 'clf__estimator__min_samples_leaf': 1})"
   ]
  },
  {
   "cell_type": "markdown",
   "metadata": {},
   "source": [
    "### 5. Test your model\n",
    "Report the f1 score, precision and recall for each output category of the dataset. You can do this by iterating through the columns and calling sklearn's `classification_report` on each."
   ]
  },
  {
   "cell_type": "code",
   "execution_count": 9,
   "metadata": {},
   "outputs": [
    {
     "name": "stdout",
     "output_type": "stream",
     "text": [
      "Average macro f1 score is 0.74.\n",
      "Average macro precision score is 0.73.\n",
      "Average macro recall score is 0.80.\n",
      "Average weighted f1 score is 0.95.\n",
      "Average weighted precision score is 0.96.\n",
      "Average weighted recall score is 0.95.\n"
     ]
    }
   ],
   "source": [
    "def get_model_scores(fittedmodel, X_test, Y_test):\n",
    "    '''\n",
    "    Iterates over columns of response variables. Prints macro and weighted average f1_Score, recall and precision.\n",
    "    INPUTS:\n",
    "    fittedmodel - sci-kit learn classifier object that should already have been fitted with the data.\n",
    "    X_test (1d numpy array, pandas series) - explanatory variables you wish to test the model with.\n",
    "    Y_test (2d numpy array, pandas df) - reponse variables you wish to test the model with.\n",
    "    OUTPUTS:\n",
    "    -\n",
    "    '''\n",
    "    predictions = fittedmodel.predict(X_test)\n",
    "    \n",
    "    f1_scores_m = []\n",
    "    precision_scores_m = []\n",
    "    recall_scores_m = []\n",
    "    f1_scores_w = []\n",
    "    precision_scores_w = []\n",
    "    recall_scores_w = []\n",
    "    \n",
    "    for i in range(Y_test.shape[1]):\n",
    "    \n",
    "        score_dict = classification_report(predictions[:][i], np.array(Y_test)[:][i], \n",
    "                                                      zero_division=0, output_dict=True)\n",
    "        \n",
    "        f1_scores_m.append(score_dict['macro avg']['f1-score'])\n",
    "        precision_scores_m.append(score_dict['macro avg']['precision'])\n",
    "        recall_scores_m.append(score_dict['macro avg']['recall'])\n",
    "        f1_scores_w.append(score_dict['weighted avg']['f1-score'])\n",
    "        precision_scores_w.append(score_dict['weighted avg']['precision'])\n",
    "        recall_scores_w.append(score_dict['weighted avg']['recall'])\n",
    "                \n",
    "    print(\"Average macro f1 score is {:.2f}.\".format(np.array(f1_scores_m).mean()))\n",
    "    print(\"Average macro precision score is {:.2f}.\".format(np.array(precision_scores_m).mean()))\n",
    "    print(\"Average macro recall score is {:.2f}.\".format(np.array(recall_scores_m).mean()))\n",
    "    print(\"Average weighted f1 score is {:.2f}.\".format(np.array(f1_scores_w).mean()))\n",
    "    print(\"Average weighted precision score is {:.2f}.\".format(np.array(precision_scores_w).mean()))\n",
    "    print(\"Average weighted recall score is {:.2f}.\".format(np.array(recall_scores_w).mean()))\n",
    "       \n",
    "    return None\n",
    "\n",
    "get_model_scores(pipeline, X_test, Y_test)"
   ]
  },
  {
   "cell_type": "markdown",
   "metadata": {},
   "source": [
    "### 6. Improve your model\n",
    "Use grid search to find better parameters. "
   ]
  },
  {
   "cell_type": "code",
   "execution_count": 6,
   "metadata": {},
   "outputs": [
    {
     "name": "stdout",
     "output_type": "stream",
     "text": [
      "Fitting 5 folds for each of 30 candidates, totalling 150 fits\n",
      "That took 282.0 minutes and 51.3 seconds.\n"
     ]
    }
   ],
   "source": [
    "parameters = {\n",
    " 'vect__max_df': [0.2, 0.4, 0.6],\n",
    " 'vect__ngram_range': [(1, 1), (1, 2), (1, 3)],\n",
    " 'clf__estimator__min_samples_leaf': [2, 4],\n",
    " 'clf__estimator__min_samples_split': [4, 8, 12],\n",
    " 'clf__estimator__n_estimators': [50, 100, 200]\n",
    "}\n",
    "\n",
    "rand_search_cv = RandomizedSearchCV(estimator = pipeline, param_distributions = parameters, n_jobs=-1, \n",
    "                                    random_state=17, verbose=5, n_iter = 30)\n",
    "start_time = time.time()\n",
    "rand_search_cv.fit(X_train, Y_train)\n",
    "time_taken = time.time() - start_time\n",
    "print(\"That took {} minutes and {:.1f} seconds.\".format(time_taken//60, time_taken%60))"
   ]
  },
  {
   "cell_type": "code",
   "execution_count": 25,
   "metadata": {},
   "outputs": [
    {
     "data": {
      "text/plain": [
       "Pipeline(steps=[('vect',\n",
       "                 CountVectorizer(lowercase=False, max_df=0.2,\n",
       "                                 stop_words='english',\n",
       "                                 tokenizer=<function tokenize at 0x000001E74A8A3940>)),\n",
       "                ('tfidf', TfidfTransformer()),\n",
       "                ('clf',\n",
       "                 MultiOutputClassifier(estimator=RandomForestClassifier()))])"
      ]
     },
     "execution_count": 25,
     "metadata": {},
     "output_type": "execute_result"
    }
   ],
   "source": [
    "pipeline.set_params(vect__max_df=0.2)"
   ]
  },
  {
   "cell_type": "code",
   "execution_count": 26,
   "metadata": {},
   "outputs": [
    {
     "data": {
      "text/plain": [
       "{'vect__ngram_range': (1, 2),\n",
       " 'vect__max_df': 0.2,\n",
       " 'clf__estimator__n_estimators': 200,\n",
       " 'clf__estimator__min_samples_split': 4,\n",
       " 'clf__estimator__min_samples_leaf': 2}"
      ]
     },
     "execution_count": 26,
     "metadata": {},
     "output_type": "execute_result"
    }
   ],
   "source": [
    "best_parameters"
   ]
  },
  {
   "cell_type": "markdown",
   "metadata": {},
   "source": [
    "### 7. Test your model\n",
    "Show the accuracy, precision, and recall of the tuned model.  \n",
    "\n",
    "Since this project focuses on code quality, process, and  pipelines, there is no minimum performance metric needed to pass. However, make sure to fine tune your models for accuracy, precision and recall to make your project stand out - especially for your portfolio!"
   ]
  },
  {
   "cell_type": "code",
   "execution_count": 10,
   "metadata": {},
   "outputs": [
    {
     "name": "stdout",
     "output_type": "stream",
     "text": [
      "Average macro f1 score is 0.80.\n",
      "Average macro precision score is 0.79.\n",
      "Average macro recall score is 0.86.\n",
      "Average weighted f1 score is 0.96.\n",
      "Average weighted precision score is 0.97.\n",
      "Average weighted recall score is 0.96.\n"
     ]
    }
   ],
   "source": [
    "get_model_scores(rand_search_cv, X_test, Y_test)"
   ]
  },
  {
   "cell_type": "markdown",
   "metadata": {},
   "source": [
    "### 8. Try improving your model further. Here are a few ideas:\n",
    "* try other machine learning algorithms\n",
    "* add other features besides the TF-IDF"
   ]
  },
  {
   "cell_type": "code",
   "execution_count": null,
   "metadata": {},
   "outputs": [],
   "source": []
  },
  {
   "cell_type": "markdown",
   "metadata": {},
   "source": [
    "### 9. Export your model as a pickle file"
   ]
  },
  {
   "cell_type": "code",
   "execution_count": 13,
   "metadata": {},
   "outputs": [],
   "source": [
    "with open(\"./classifier.pkl\", \"wb\") as f:\n",
    "    joblib.dump(rand_search_cv, f, compress='zlib')"
   ]
  },
  {
   "cell_type": "markdown",
   "metadata": {},
   "source": [
    "### 10. Use this notebook to complete `train.py`\n",
    "Use the template file attached in the Resources folder to write a script that runs the steps above to create a database and export a model based on a new dataset specified by the user."
   ]
  },
  {
   "cell_type": "code",
   "execution_count": null,
   "metadata": {},
   "outputs": [],
   "source": []
  }
 ],
 "metadata": {
  "kernelspec": {
   "display_name": "Python 3 (ipykernel)",
   "language": "python",
   "name": "python3"
  },
  "language_info": {
   "codemirror_mode": {
    "name": "ipython",
    "version": 3
   },
   "file_extension": ".py",
   "mimetype": "text/x-python",
   "name": "python",
   "nbconvert_exporter": "python",
   "pygments_lexer": "ipython3",
   "version": "3.9.7"
  }
 },
 "nbformat": 4,
 "nbformat_minor": 2
}
